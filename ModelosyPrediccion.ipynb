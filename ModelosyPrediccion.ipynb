{
 "cells": [
  {
   "cell_type": "markdown",
   "id": "17d0ff0e",
   "metadata": {},
   "source": [
    "### 3. Modelos Univariantes"
   ]
  },
  {
   "cell_type": "code",
   "execution_count": 1,
   "id": "c40ea60f",
   "metadata": {},
   "outputs": [],
   "source": [
    "import pandas as pd\n",
    "import matplotlib.pyplot as plt\n",
    "from statsmodels.tsa.seasonal import seasonal_decompose\n",
    "from statsmodels.tsa.holtwinters import ExponentialSmoothing\n",
    "from sklearn.model_selection import TimeSeriesSplit\n",
    "from sklearn.metrics import mean_squared_error\n",
    "import numpy as np"
   ]
  },
  {
   "cell_type": "code",
   "execution_count": 2,
   "id": "63a7c962",
   "metadata": {},
   "outputs": [],
   "source": [
    "from sklearn.metrics import mean_squared_error, mean_absolute_error\n",
    "from statsmodels.tsa.arima.model import ARIMA\n",
    "from tbats import TBATS"
   ]
  },
  {
   "cell_type": "code",
   "execution_count": 3,
   "id": "afcb61da",
   "metadata": {},
   "outputs": [],
   "source": [
    "# Cargar los datos filtrados del primer notebook\n",
    "df_filtrado = pd.read_csv('df_filtrado.csv')  # Importamos el csv"
   ]
  },
  {
   "cell_type": "code",
   "execution_count": 4,
   "id": "5746afaa",
   "metadata": {},
   "outputs": [],
   "source": [
    "reservas_semanales = pd.read_csv('reservas_semanales1.csv', index_col='Fecha')  # Importamos el csv reservas\n",
    "cancelaciones_semanales = pd.read_csv('cancelaciones_semanales1.csv', index_col='Fecha')  # Importamos el cancelaciones"
   ]
  },
  {
   "cell_type": "code",
   "execution_count": 5,
   "id": "dc63ac2e",
   "metadata": {},
   "outputs": [
    {
     "data": {
      "text/html": [
       "<div>\n",
       "<style scoped>\n",
       "    .dataframe tbody tr th:only-of-type {\n",
       "        vertical-align: middle;\n",
       "    }\n",
       "\n",
       "    .dataframe tbody tr th {\n",
       "        vertical-align: top;\n",
       "    }\n",
       "\n",
       "    .dataframe thead th {\n",
       "        text-align: right;\n",
       "    }\n",
       "</style>\n",
       "<table border=\"1\" class=\"dataframe\">\n",
       "  <thead>\n",
       "    <tr style=\"text-align: right;\">\n",
       "      <th></th>\n",
       "      <th>Reservas</th>\n",
       "      <th>DiferenciaReservas</th>\n",
       "    </tr>\n",
       "    <tr>\n",
       "      <th>Fecha</th>\n",
       "      <th></th>\n",
       "      <th></th>\n",
       "    </tr>\n",
       "  </thead>\n",
       "  <tbody>\n",
       "    <tr>\n",
       "      <th>2015-07-05</th>\n",
       "      <td>85</td>\n",
       "      <td>NaN</td>\n",
       "    </tr>\n",
       "    <tr>\n",
       "      <th>2015-07-12</th>\n",
       "      <td>61</td>\n",
       "      <td>-24.0</td>\n",
       "    </tr>\n",
       "    <tr>\n",
       "      <th>2015-07-19</th>\n",
       "      <td>124</td>\n",
       "      <td>63.0</td>\n",
       "    </tr>\n",
       "    <tr>\n",
       "      <th>2015-07-26</th>\n",
       "      <td>134</td>\n",
       "      <td>10.0</td>\n",
       "    </tr>\n",
       "    <tr>\n",
       "      <th>2015-08-02</th>\n",
       "      <td>77</td>\n",
       "      <td>-57.0</td>\n",
       "    </tr>\n",
       "    <tr>\n",
       "      <th>...</th>\n",
       "      <td>...</td>\n",
       "      <td>...</td>\n",
       "    </tr>\n",
       "    <tr>\n",
       "      <th>2017-08-06</th>\n",
       "      <td>452</td>\n",
       "      <td>-11.0</td>\n",
       "    </tr>\n",
       "    <tr>\n",
       "      <th>2017-08-13</th>\n",
       "      <td>442</td>\n",
       "      <td>-10.0</td>\n",
       "    </tr>\n",
       "    <tr>\n",
       "      <th>2017-08-20</th>\n",
       "      <td>465</td>\n",
       "      <td>23.0</td>\n",
       "    </tr>\n",
       "    <tr>\n",
       "      <th>2017-08-27</th>\n",
       "      <td>472</td>\n",
       "      <td>7.0</td>\n",
       "    </tr>\n",
       "    <tr>\n",
       "      <th>2017-09-03</th>\n",
       "      <td>248</td>\n",
       "      <td>-224.0</td>\n",
       "    </tr>\n",
       "  </tbody>\n",
       "</table>\n",
       "<p>114 rows × 2 columns</p>\n",
       "</div>"
      ],
      "text/plain": [
       "            Reservas  DiferenciaReservas\n",
       "Fecha                                   \n",
       "2015-07-05        85                 NaN\n",
       "2015-07-12        61               -24.0\n",
       "2015-07-19       124                63.0\n",
       "2015-07-26       134                10.0\n",
       "2015-08-02        77               -57.0\n",
       "...              ...                 ...\n",
       "2017-08-06       452               -11.0\n",
       "2017-08-13       442               -10.0\n",
       "2017-08-20       465                23.0\n",
       "2017-08-27       472                 7.0\n",
       "2017-09-03       248              -224.0\n",
       "\n",
       "[114 rows x 2 columns]"
      ]
     },
     "execution_count": 5,
     "metadata": {},
     "output_type": "execute_result"
    }
   ],
   "source": [
    "reservas_semanales"
   ]
  },
  {
   "cell_type": "code",
   "execution_count": 6,
   "id": "2445b528",
   "metadata": {},
   "outputs": [],
   "source": [
    "# Definimos el porcentaje de datos para cada conjunto\n",
    "train_percent = 0.8\n",
    "val_percent = 0.1\n",
    "test_percent = 0.1"
   ]
  },
  {
   "cell_type": "code",
   "execution_count": 7,
   "id": "67a58983",
   "metadata": {},
   "outputs": [],
   "source": [
    "# Función para dividir una serie temporal en conjuntos\n",
    "def dividir_series_temporales(series_temporal):\n",
    "    len_total = len(series_temporal)\n",
    "    len_train = int(train_percent * len_total)\n",
    "    len_val = int(val_percent * len_total)\n",
    "\n",
    "    # Dividir los datos\n",
    "    train_data = series_temporal.iloc[:len_train]\n",
    "    val_data = series_temporal.iloc[len_train:len_train + len_val]\n",
    "    test_data = series_temporal.iloc[len_train + len_val:]\n",
    "\n",
    "    return train_data, val_data, test_data"
   ]
  },
  {
   "cell_type": "code",
   "execution_count": 8,
   "id": "52902bca",
   "metadata": {},
   "outputs": [],
   "source": [
    "# Dividir las series temporales\n",
    "train_reservas, val_reservas, test_reservas = dividir_series_temporales(reservas_semanales['Reservas'])\n",
    "train_cancelaciones, val_cancelaciones, test_cancelaciones = dividir_series_temporales(cancelaciones_semanales['Cancelaciones'])"
   ]
  },
  {
   "cell_type": "code",
   "execution_count": 9,
   "id": "f05bf7ed",
   "metadata": {},
   "outputs": [
    {
     "name": "stdout",
     "output_type": "stream",
     "text": [
      "Entrenamiento Reservas: (91,)\n",
      "Validación Reservas: (11,)\n",
      "Prueba Reservas: (12,)\n",
      "Entrenamiento Cancelaciones: (91,)\n",
      "Validación Cancelaciones: (11,)\n",
      "Prueba Cancelaciones: (12,)\n"
     ]
    }
   ],
   "source": [
    "# Verificar las formas de los conjuntos\n",
    "print(\"Entrenamiento Reservas:\", train_reservas.shape)\n",
    "print(\"Validación Reservas:\", val_reservas.shape)\n",
    "print(\"Prueba Reservas:\", test_reservas.shape)\n",
    "\n",
    "print(\"Entrenamiento Cancelaciones:\", train_cancelaciones.shape)\n",
    "print(\"Validación Cancelaciones:\", val_cancelaciones.shape)\n",
    "print(\"Prueba Cancelaciones:\", test_cancelaciones.shape)"
   ]
  },
  {
   "cell_type": "code",
   "execution_count": 10,
   "id": "3f9ec63d",
   "metadata": {},
   "outputs": [],
   "source": [
    "# Modelo ARIMA"
   ]
  },
  {
   "cell_type": "code",
   "execution_count": 11,
   "id": "71a7b892",
   "metadata": {},
   "outputs": [
    {
     "name": "stderr",
     "output_type": "stream",
     "text": [
      "/Users/Lucia/anaconda3/envs/AP/lib/python3.11/site-packages/statsmodels/tsa/base/tsa_model.py:473: ValueWarning: No frequency information was provided, so inferred frequency W-SUN will be used.\n",
      "  self._init_dates(dates, freq)\n",
      "/Users/Lucia/anaconda3/envs/AP/lib/python3.11/site-packages/statsmodels/tsa/base/tsa_model.py:473: ValueWarning: No frequency information was provided, so inferred frequency W-SUN will be used.\n",
      "  self._init_dates(dates, freq)\n",
      "/Users/Lucia/anaconda3/envs/AP/lib/python3.11/site-packages/statsmodels/tsa/base/tsa_model.py:473: ValueWarning: No frequency information was provided, so inferred frequency W-SUN will be used.\n",
      "  self._init_dates(dates, freq)\n"
     ]
    }
   ],
   "source": [
    "# Crear y entrenar el modelo ARIMA\n",
    "arima_reservas = ARIMA(train_reservas, order=(1, 1, 1))\n",
    "arima_reservas_fit = arima_reservas.fit()"
   ]
  },
  {
   "cell_type": "code",
   "execution_count": 12,
   "id": "1d5e5094",
   "metadata": {},
   "outputs": [],
   "source": [
    "# Realizar predicciones en el conjunto de validación\n",
    "predicciones_arima_reservas = arima_reservas_fit.get_forecast(steps=len(val_reservas))"
   ]
  },
  {
   "cell_type": "code",
   "execution_count": 13,
   "id": "65243cf4",
   "metadata": {},
   "outputs": [
    {
     "name": "stderr",
     "output_type": "stream",
     "text": [
      "/Users/Lucia/anaconda3/envs/AP/lib/python3.11/site-packages/statsmodels/tsa/base/tsa_model.py:473: ValueWarning: No frequency information was provided, so inferred frequency W-SUN will be used.\n",
      "  self._init_dates(dates, freq)\n",
      "/Users/Lucia/anaconda3/envs/AP/lib/python3.11/site-packages/statsmodels/tsa/base/tsa_model.py:473: ValueWarning: No frequency information was provided, so inferred frequency W-SUN will be used.\n",
      "  self._init_dates(dates, freq)\n",
      "/Users/Lucia/anaconda3/envs/AP/lib/python3.11/site-packages/statsmodels/tsa/base/tsa_model.py:473: ValueWarning: No frequency information was provided, so inferred frequency W-SUN will be used.\n",
      "  self._init_dates(dates, freq)\n"
     ]
    }
   ],
   "source": [
    "# Ajustar modelo ARIMA a DiferenciaCancelaciones\n",
    "arima_cancelaciones = ARIMA(train_cancelaciones, order=(1, 1, 1))\n",
    "arima_cancelaciones_fit = arima_cancelaciones.fit()"
   ]
  },
  {
   "cell_type": "code",
   "execution_count": 14,
   "id": "6a977fee",
   "metadata": {},
   "outputs": [],
   "source": [
    "# Realizar predicciones en el conjunto de validación\n",
    "predicciones_arima_cancelaciones = arima_cancelaciones_fit.get_forecast(steps=len(val_cancelaciones))"
   ]
  },
  {
   "cell_type": "code",
   "execution_count": 15,
   "id": "86796d29",
   "metadata": {},
   "outputs": [],
   "source": [
    "# Calcular errores para ARIMA Reservas\n",
    "mse_arima_r = mean_squared_error(val_reservas, predicciones_arima_reservas.predicted_mean)\n",
    "rmse_arima_r = np.sqrt(mse_arima_r)\n",
    "mae_arima_r = mean_absolute_error(val_reservas, predicciones_arima_reservas.predicted_mean)"
   ]
  },
  {
   "cell_type": "code",
   "execution_count": 16,
   "id": "2f70b02b",
   "metadata": {},
   "outputs": [],
   "source": [
    "# Calcular errores para ARIMA Cancelaciones\n",
    "mse_arima_c = mean_squared_error(val_cancelaciones, predicciones_arima_cancelaciones.predicted_mean)\n",
    "rmse_arima_c = np.sqrt(mse_arima_c)\n",
    "mae_arima_c = mean_absolute_error(val_cancelaciones, predicciones_arima_cancelaciones.predicted_mean)"
   ]
  },
  {
   "cell_type": "code",
   "execution_count": 17,
   "id": "600bced3",
   "metadata": {},
   "outputs": [
    {
     "name": "stdout",
     "output_type": "stream",
     "text": [
      "Errores para ARIMA Reservas - MSE: 1427.6924548757027, RMSE: 37.784817782751084, MAE: 30.638227974570498\n"
     ]
    }
   ],
   "source": [
    "print(\"Errores para ARIMA Reservas - MSE: {}, RMSE: {}, MAE: {}\".format(mse_arima_r, rmse_arima_r, mae_arima_r))"
   ]
  },
  {
   "cell_type": "code",
   "execution_count": 18,
   "id": "28e007e7",
   "metadata": {},
   "outputs": [
    {
     "name": "stdout",
     "output_type": "stream",
     "text": [
      "Errores para ARIMA Cancelaciones - MSE: 40606.6010278162, RMSE: 201.5107963058461, MAE: 180.8348250899109\n"
     ]
    }
   ],
   "source": [
    "print(\"Errores para ARIMA Cancelaciones - MSE: {}, RMSE: {}, MAE: {}\".format(mse_arima_c, rmse_arima_c, mae_arima_c))"
   ]
  },
  {
   "cell_type": "code",
   "execution_count": 19,
   "id": "0781d898",
   "metadata": {},
   "outputs": [],
   "source": [
    "# Modelo ETS"
   ]
  },
  {
   "cell_type": "code",
   "execution_count": 20,
   "id": "0c982bbc",
   "metadata": {},
   "outputs": [
    {
     "name": "stderr",
     "output_type": "stream",
     "text": [
      "/Users/Lucia/anaconda3/envs/AP/lib/python3.11/site-packages/statsmodels/tsa/base/tsa_model.py:473: ValueWarning: No frequency information was provided, so inferred frequency W-SUN will be used.\n",
      "  self._init_dates(dates, freq)\n"
     ]
    }
   ],
   "source": [
    "# Proporcionar la cantidad de periodos estacionales al modelo ETS en reservas\n",
    "ets_reservas = ExponentialSmoothing(train_reservas, seasonal='multiplicative', seasonal_periods=4) \n",
    "ets_reservas_fit = ets_reservas.fit()"
   ]
  },
  {
   "cell_type": "code",
   "execution_count": 21,
   "id": "7f11dc5d",
   "metadata": {},
   "outputs": [],
   "source": [
    "# Predecir con el modelo en el conjunto de validación\n",
    "predictions_ets_reservas = ets_reservas_fit.forecast(steps=len(val_reservas))"
   ]
  },
  {
   "cell_type": "code",
   "execution_count": 22,
   "id": "d9d838b6",
   "metadata": {},
   "outputs": [
    {
     "name": "stderr",
     "output_type": "stream",
     "text": [
      "/Users/Lucia/anaconda3/envs/AP/lib/python3.11/site-packages/statsmodels/tsa/base/tsa_model.py:473: ValueWarning: No frequency information was provided, so inferred frequency W-SUN will be used.\n",
      "  self._init_dates(dates, freq)\n"
     ]
    }
   ],
   "source": [
    "# Proporcionar la cantidad de periodos estacionales al modelo ETS en cancelaciones\n",
    "ets_cancelaciones = ExponentialSmoothing(train_cancelaciones, seasonal='multiplicative', seasonal_periods=4) \n",
    "ets_cancelaciones_fit = ets_cancelaciones.fit()"
   ]
  },
  {
   "cell_type": "code",
   "execution_count": 23,
   "id": "f1ef6427",
   "metadata": {},
   "outputs": [],
   "source": [
    "# Predecir con el modelo en el conjunto de validación\n",
    "predictions_ets_cancelaciones = ets_cancelaciones_fit.forecast(steps=len(val_cancelaciones))"
   ]
  },
  {
   "cell_type": "code",
   "execution_count": 24,
   "id": "1ac6be96",
   "metadata": {},
   "outputs": [],
   "source": [
    "# Calcular errores para ETS\n",
    "mse_ets_r = mean_squared_error(val_reservas, predictions_ets_reservas)\n",
    "rmse_ets_r = np.sqrt(mse_ets_r)\n",
    "mae_ets_r = mean_absolute_error(val_reservas, predictions_ets_reservas)"
   ]
  },
  {
   "cell_type": "code",
   "execution_count": 25,
   "id": "1ad9843c",
   "metadata": {},
   "outputs": [],
   "source": [
    "# Calcular errores para ETS\n",
    "mse_ets_c = mean_squared_error(val_cancelaciones, predictions_ets_reservas)\n",
    "rmse_ets_c = np.sqrt(mse_ets_c)\n",
    "mae_ets_c = mean_absolute_error(val_cancelaciones, predictions_ets_reservas)"
   ]
  },
  {
   "cell_type": "code",
   "execution_count": 26,
   "id": "a2bc6a98",
   "metadata": {},
   "outputs": [
    {
     "name": "stdout",
     "output_type": "stream",
     "text": [
      "Errores para ETS Reservas - MSE: 1635.2271698219934, RMSE: 40.43794220558204, MAE: 36.051897487439504\n"
     ]
    }
   ],
   "source": [
    "print(\"Errores para ETS Reservas - MSE: {}, RMSE: {}, MAE: {}\".format(mse_ets_r, rmse_ets_r, mae_ets_r))"
   ]
  },
  {
   "cell_type": "code",
   "execution_count": 27,
   "id": "b85b0202",
   "metadata": {},
   "outputs": [
    {
     "name": "stdout",
     "output_type": "stream",
     "text": [
      "Errores para ETS Cancelaciones - MSE: 14355.201867005635, RMSE: 119.81319571318359, MAE: 92.47567967950408\n"
     ]
    }
   ],
   "source": [
    "print(\"Errores para ETS Cancelaciones - MSE: {}, RMSE: {}, MAE: {}\".format(mse_ets_c, rmse_ets_c, mae_ets_c))"
   ]
  },
  {
   "cell_type": "code",
   "execution_count": 28,
   "id": "dc3e1187",
   "metadata": {},
   "outputs": [],
   "source": [
    "# Modelo TBATS"
   ]
  },
  {
   "cell_type": "code",
   "execution_count": 29,
   "id": "8e5b6c59",
   "metadata": {},
   "outputs": [],
   "source": [
    "# Crear y entrenar el modelo TBATS\n",
    "estimator_r = TBATS(seasonal_periods=(12, 6)) \n",
    "tbats_reservas = estimator_r.fit(train_reservas)\n",
    "\n",
    "# Predecir con el modelo en el conjunto de validación\n",
    "predictions_tbats_reservas = tbats_reservas.forecast(steps=len(val_reservas))"
   ]
  },
  {
   "cell_type": "code",
   "execution_count": 30,
   "id": "9f6fd8db",
   "metadata": {},
   "outputs": [],
   "source": [
    "# Crear y entrenar el modelo TBATS cancelaciones\n",
    "estimator_c = TBATS(seasonal_periods=(12, 6)) \n",
    "tbats_cancelaciones = estimator_c.fit(train_cancelaciones)\n",
    "\n",
    "# Predecir con el modelo en el conjunto de validación\n",
    "predictions_tbats_cancelaciones = tbats_cancelaciones.forecast(steps=len(val_cancelaciones))"
   ]
  },
  {
   "cell_type": "code",
   "execution_count": 31,
   "id": "62f6f465",
   "metadata": {},
   "outputs": [],
   "source": [
    "# Calcular errores para TBATS reservas\n",
    "mse_tbats_r = mean_squared_error(val_reservas, predictions_tbats_reservas)\n",
    "rmse_tbats_r = np.sqrt(mse_tbats_r)\n",
    "mae_tbats_r = mean_absolute_error(val_reservas, predictions_tbats_reservas)"
   ]
  },
  {
   "cell_type": "code",
   "execution_count": 32,
   "id": "e9cd5626",
   "metadata": {},
   "outputs": [],
   "source": [
    "# Calcular errores para TBATS cancelaciones\n",
    "mse_tbats_c = mean_squared_error(val_cancelaciones, predictions_tbats_cancelaciones)\n",
    "rmse_tbats_c = np.sqrt(mse_tbats_c)\n",
    "mae_tbats_c = mean_absolute_error(val_cancelaciones, predictions_tbats_cancelaciones)"
   ]
  },
  {
   "cell_type": "code",
   "execution_count": 33,
   "id": "43f3bf5e",
   "metadata": {},
   "outputs": [
    {
     "name": "stdout",
     "output_type": "stream",
     "text": [
      "Errores para TBATS Reservas - MSE: 3879.12065952467, RMSE: 62.28258712934675, MAE: 51.37798704508364\n"
     ]
    }
   ],
   "source": [
    "print(\"Errores para TBATS Reservas - MSE: {}, RMSE: {}, MAE: {}\".format(mse_tbats_r, rmse_tbats_r, mae_tbats_r))"
   ]
  },
  {
   "cell_type": "code",
   "execution_count": 34,
   "id": "88fbc83b",
   "metadata": {},
   "outputs": [
    {
     "name": "stdout",
     "output_type": "stream",
     "text": [
      "Errores para TBATS Cancelaciones - MSE: 39869.43787873448, RMSE: 199.67332791020058, MAE: 179.01453660934473\n"
     ]
    }
   ],
   "source": [
    "print(\"Errores para TBATS Cancelaciones - MSE: {}, RMSE: {}, MAE: {}\".format(mse_tbats_c, rmse_tbats_c, mae_tbats_c))"
   ]
  },
  {
   "cell_type": "code",
   "execution_count": 37,
   "id": "c6228db7",
   "metadata": {},
   "outputs": [],
   "source": [
    "import pandas as pd\n",
    "from tabulate import tabulate\n",
    "\n",
    "# Crear un diccionario con los resultados\n",
    "resultados = {\n",
    "    'Modelo': ['ARIMA', 'ETS', 'TBATS'],\n",
    "    'MSE Reservas': [mse_arima_r, mse_ets_r, mse_tbats_r],\n",
    "    'RMSE Reservas': [rmse_arima_r, rmse_ets_r, rmse_tbats_r],\n",
    "    'MAE Reservas': [mae_arima_r, mae_ets_r, mae_tbats_r],\n",
    "    'MSE Cancelaciones': [mse_arima_c, mse_ets_c, mse_tbats_c],\n",
    "    'RMSE Cancelaciones': [rmse_arima_c, rmse_ets_c, rmse_tbats_c],\n",
    "    'MAE Cancelaciones': [mae_arima_c, mae_ets_c, mae_tbats_c],\n",
    "}\n",
    "\n",
    "# Crear un DataFrame con los resultados\n",
    "df_resultados = pd.DataFrame(resultados)"
   ]
  },
  {
   "cell_type": "code",
   "execution_count": 38,
   "id": "035adcf5",
   "metadata": {},
   "outputs": [],
   "source": [
    "# Configurar 'Fecha' como el índice\n",
    "df_resultados.set_index('Modelo', inplace=True)"
   ]
  },
  {
   "cell_type": "code",
   "execution_count": 39,
   "id": "d3e77c50",
   "metadata": {},
   "outputs": [
    {
     "data": {
      "text/html": [
       "<div>\n",
       "<style scoped>\n",
       "    .dataframe tbody tr th:only-of-type {\n",
       "        vertical-align: middle;\n",
       "    }\n",
       "\n",
       "    .dataframe tbody tr th {\n",
       "        vertical-align: top;\n",
       "    }\n",
       "\n",
       "    .dataframe thead th {\n",
       "        text-align: right;\n",
       "    }\n",
       "</style>\n",
       "<table border=\"1\" class=\"dataframe\">\n",
       "  <thead>\n",
       "    <tr style=\"text-align: right;\">\n",
       "      <th></th>\n",
       "      <th>MSE Reservas</th>\n",
       "      <th>RMSE Reservas</th>\n",
       "      <th>MAE Reservas</th>\n",
       "      <th>MSE Cancelaciones</th>\n",
       "      <th>RMSE Cancelaciones</th>\n",
       "      <th>MAE Cancelaciones</th>\n",
       "    </tr>\n",
       "    <tr>\n",
       "      <th>Modelo</th>\n",
       "      <th></th>\n",
       "      <th></th>\n",
       "      <th></th>\n",
       "      <th></th>\n",
       "      <th></th>\n",
       "      <th></th>\n",
       "    </tr>\n",
       "  </thead>\n",
       "  <tbody>\n",
       "    <tr>\n",
       "      <th>ARIMA</th>\n",
       "      <td>1427.692455</td>\n",
       "      <td>37.784818</td>\n",
       "      <td>30.638228</td>\n",
       "      <td>40606.601028</td>\n",
       "      <td>201.510796</td>\n",
       "      <td>180.834825</td>\n",
       "    </tr>\n",
       "    <tr>\n",
       "      <th>ETS</th>\n",
       "      <td>1635.227170</td>\n",
       "      <td>40.437942</td>\n",
       "      <td>36.051897</td>\n",
       "      <td>14355.201867</td>\n",
       "      <td>119.813196</td>\n",
       "      <td>92.475680</td>\n",
       "    </tr>\n",
       "    <tr>\n",
       "      <th>TBATS</th>\n",
       "      <td>3879.120660</td>\n",
       "      <td>62.282587</td>\n",
       "      <td>51.377987</td>\n",
       "      <td>39869.437879</td>\n",
       "      <td>199.673328</td>\n",
       "      <td>179.014537</td>\n",
       "    </tr>\n",
       "  </tbody>\n",
       "</table>\n",
       "</div>"
      ],
      "text/plain": [
       "        MSE Reservas  RMSE Reservas  MAE Reservas  MSE Cancelaciones  \\\n",
       "Modelo                                                                 \n",
       "ARIMA    1427.692455      37.784818     30.638228       40606.601028   \n",
       "ETS      1635.227170      40.437942     36.051897       14355.201867   \n",
       "TBATS    3879.120660      62.282587     51.377987       39869.437879   \n",
       "\n",
       "        RMSE Cancelaciones  MAE Cancelaciones  \n",
       "Modelo                                         \n",
       "ARIMA           201.510796         180.834825  \n",
       "ETS             119.813196          92.475680  \n",
       "TBATS           199.673328         179.014537  "
      ]
     },
     "execution_count": 39,
     "metadata": {},
     "output_type": "execute_result"
    }
   ],
   "source": [
    "df_resultados"
   ]
  },
  {
   "cell_type": "markdown",
   "id": "6ef7243d",
   "metadata": {},
   "source": [
    "Si damos más importancia a la robustez y simplicidad del modelo, preferimos ARIMA, ya que parece tener errores más bajos en todas las métricas.\n",
    "\n",
    "Si queremos un modelo más complejo pero con posiblemente mejor rendimiento, ETS sería la opción."
   ]
  },
  {
   "cell_type": "markdown",
   "id": "ea62da80",
   "metadata": {},
   "source": [
    "En este caso nos vamos a quedar con el modelo ETS ya que es el mejor entre los tres modelos evaluados, ya que tiene los errores de predicción bajos y posiblemente tendrá mejor rendimiento."
   ]
  },
  {
   "cell_type": "markdown",
   "id": "52b6b13d",
   "metadata": {},
   "source": [
    "### 4. Predicción de las próximas 5 semanas"
   ]
  },
  {
   "cell_type": "code",
   "execution_count": 40,
   "id": "51412226",
   "metadata": {},
   "outputs": [],
   "source": [
    "# Obtener la última fecha en la serie temporal\n",
    "ultima_fecha = reservas_semanales.index[-1]"
   ]
  },
  {
   "cell_type": "code",
   "execution_count": 41,
   "id": "e9d0c21a",
   "metadata": {},
   "outputs": [],
   "source": [
    "# Generar las próximas 5 semanas a partir de la última fecha\n",
    "proximo_index = pd.date_range(start=ultima_fecha, periods=6, freq='W')[1:]"
   ]
  },
  {
   "cell_type": "code",
   "execution_count": 42,
   "id": "d0e2d886",
   "metadata": {},
   "outputs": [
    {
     "name": "stderr",
     "output_type": "stream",
     "text": [
      "/Users/Lucia/anaconda3/envs/AP/lib/python3.11/site-packages/statsmodels/tsa/base/tsa_model.py:473: ValueWarning: No frequency information was provided, so inferred frequency W-SUN will be used.\n",
      "  self._init_dates(dates, freq)\n"
     ]
    }
   ],
   "source": [
    "# Crear y entrenar el modelo ETS\n",
    "model_ets = ExponentialSmoothing(reservas_semanales['Reservas'], seasonal='multiplicative', seasonal_periods=4)\n",
    "model_ets_fit = model_ets.fit()"
   ]
  },
  {
   "cell_type": "code",
   "execution_count": 43,
   "id": "d95349fa",
   "metadata": {},
   "outputs": [
    {
     "name": "stdout",
     "output_type": "stream",
     "text": [
      "2017-09-10    295.088256\n",
      "2017-09-17    296.488751\n",
      "2017-09-24    283.534818\n",
      "2017-10-01    293.740644\n",
      "2017-10-08    295.088256\n",
      "Freq: W-SUN, dtype: float64\n"
     ]
    }
   ],
   "source": [
    "# Realizar la predicción para las próximas 5 semanas\n",
    "forecast_ets = model_ets_fit.forecast(steps=len(proximo_index))\n",
    "# Imprimir las predicciones\n",
    "print(forecast_ets)"
   ]
  },
  {
   "cell_type": "code",
   "execution_count": 44,
   "id": "0f2145dc",
   "metadata": {},
   "outputs": [],
   "source": [
    "# Obtener la última fecha en la serie temporal\n",
    "ultima_fecha_c = cancelaciones_semanales.index[-1]"
   ]
  },
  {
   "cell_type": "code",
   "execution_count": 45,
   "id": "bfc9fcb5",
   "metadata": {},
   "outputs": [],
   "source": [
    "# Generar las próximas 5 semanas a partir de la última fecha\n",
    "proximo_index_c = pd.date_range(start=ultima_fecha_c, periods=6, freq='W')[1:]"
   ]
  },
  {
   "cell_type": "code",
   "execution_count": 46,
   "id": "f7a5f936",
   "metadata": {},
   "outputs": [
    {
     "name": "stderr",
     "output_type": "stream",
     "text": [
      "/Users/Lucia/anaconda3/envs/AP/lib/python3.11/site-packages/statsmodels/tsa/base/tsa_model.py:473: ValueWarning: No frequency information was provided, so inferred frequency W-SUN will be used.\n",
      "  self._init_dates(dates, freq)\n"
     ]
    }
   ],
   "source": [
    "# Cancelaciones\n",
    "model_ets_c = ExponentialSmoothing(train_cancelaciones, seasonal='multiplicative', seasonal_periods=4)\n",
    "model_ets_fit_c = model_ets_c.fit()"
   ]
  },
  {
   "cell_type": "code",
   "execution_count": 47,
   "id": "8ddffbe3",
   "metadata": {},
   "outputs": [
    {
     "name": "stdout",
     "output_type": "stream",
     "text": [
      "2017-04-02    285.049905\n",
      "2017-04-09    236.059150\n",
      "2017-04-16    279.336585\n",
      "2017-04-23    319.520654\n",
      "2017-04-30    285.049905\n",
      "Freq: W-SUN, dtype: float64\n"
     ]
    }
   ],
   "source": [
    "# Realizar la predicción para las próximas 5 semanas\n",
    "forecast_ets_c = model_ets_fit_c.forecast(steps=len(proximo_index_c))\n",
    "# Imprimir las predicciones\n",
    "print(forecast_ets_c)"
   ]
  },
  {
   "cell_type": "code",
   "execution_count": 48,
   "id": "42b94002",
   "metadata": {},
   "outputs": [
    {
     "data": {
      "image/png": "[encoded data removed]",
      "text/plain": [
       "<Figure size 640x480 with 1 Axes>"
      ]
     },
     "metadata": {},
     "output_type": "display_data"
    }
   ],
   "source": [
    "import matplotlib.pyplot as plt\n",
    "\n",
    "# Graficar la serie temporal original\n",
    "plt.plot(reservas_semanales['Reservas'], label='Original', marker='o')\n",
    "\n",
    "# Graficar las predicciones\n",
    "forecast_index = range(len(reservas_semanales), len(reservas_semanales) + len(forecast_ets))\n",
    "plt.plot(forecast_index, forecast_ets, label='Predicciones', marker='o', linestyle='dashed', color='red')\n",
    "\n",
    "# Etiquetas y leyendas\n",
    "plt.xlabel('Semanas')\n",
    "plt.ylabel('Reservas')\n",
    "plt.title('Serie Temporal y Predicciones Reservas')\n",
    "plt.xticks(reservas_semanales.index[::4], rotation='vertical') # Establecer marcadores en el eje x para mostrar solo algunas fechas\n",
    "plt.legend()\n",
    "\n",
    "# Mostrar la gráfica\n",
    "plt.show()"
   ]
  },
  {
   "cell_type": "code",
   "execution_count": 49,
   "id": "1e47597d",
   "metadata": {},
   "outputs": [
    {
     "data": {
      "image/png": "[encoded data removed]",
      "text/plain": [
       "<Figure size 640x480 with 1 Axes>"
      ]
     },
     "metadata": {},
     "output_type": "display_data"
    }
   ],
   "source": [
    "# Graficar la serie temporal original\n",
    "plt.plot(cancelaciones_semanales['Cancelaciones'], label='Original', marker='o')\n",
    "\n",
    "# Graficar las predicciones\n",
    "forecast_index = range(len(cancelaciones_semanales), len(cancelaciones_semanales) + len(forecast_ets_c))\n",
    "plt.plot(forecast_index, forecast_ets_c, label='Predicciones', marker='o', linestyle='dashed', color='red')\n",
    "\n",
    "# Etiquetas y leyendas\n",
    "plt.xlabel('Semanas')\n",
    "plt.ylabel('Cancelaciones')\n",
    "plt.title('Serie Temporal y Predicciones Cancelaciones')\n",
    "plt.xticks(cancelaciones_semanales.index[::4], rotation='vertical') # Establecer marcadores en el eje x para mostrar solo algunas fechas\n",
    "plt.legend()\n",
    "\n",
    "# Mostrar la gráfica\n",
    "plt.show()"
   ]
  },
  {
   "cell_type": "code",
   "execution_count": null,
   "id": "caee13db",
   "metadata": {},
   "outputs": [],
   "source": [
    "# Guardar las tablas de reservas y cancelaciones en archivos CSV\n",
    "forecast_ets.to_csv('reservas_semanales_prediccion.csv')\n",
    "forecast_ets_c.to_csv('cancelaciones_semanales_prediccion.csv')"
   ]
  }
 ],
 "metadata": {
  "kernelspec": {
   "display_name": "Python 3 (ipykernel)",
   "language": "python",
   "name": "python3"
  },
  "language_info": {
   "codemirror_mode": {
    "name": "ipython",
    "version": 3
   },
   "file_extension": ".py",
   "mimetype": "text/x-python",
   "name": "python",
   "nbconvert_exporter": "python",
   "pygments_lexer": "ipython3",
   "version": "3.10.14"
  }
 },
 "nbformat": 4,
 "nbformat_minor": 5
}
