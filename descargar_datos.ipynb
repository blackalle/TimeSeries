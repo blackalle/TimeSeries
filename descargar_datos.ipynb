{
 "cells": [
  {
   "cell_type": "code",
   "execution_count": 5,
   "metadata": {},
   "outputs": [
    {
     "name": "stdout",
     "output_type": "stream",
     "text": [
      "Requirement already satisfied: pandas in /home/codespace/.local/lib/python3.10/site-packages (2.1.0)\n",
      "Requirement already satisfied: numpy>=1.22.4 in ./.conda/lib/python3.10/site-packages (from pandas) (1.26.4)\n",
      "Requirement already satisfied: python-dateutil>=2.8.2 in /home/codespace/.local/lib/python3.10/site-packages (from pandas) (2.8.2)\n",
      "Requirement already satisfied: pytz>=2020.1 in /home/codespace/.local/lib/python3.10/site-packages (from pandas) (2023.3.post1)\n",
      "Requirement already satisfied: tzdata>=2022.1 in /home/codespace/.local/lib/python3.10/site-packages (from pandas) (2023.3)\n",
      "Requirement already satisfied: six>=1.5 in /home/codespace/.local/lib/python3.10/site-packages (from python-dateutil>=2.8.2->pandas) (1.16.0)\n"
     ]
    }
   ],
   "source": [
    "!pip install pandas"
   ]
  },
  {
   "cell_type": "code",
   "execution_count": 6,
   "metadata": {},
   "outputs": [
    {
     "name": "stderr",
     "output_type": "stream",
     "text": [
      "Please provide the api secret and license token of your lucit license! Read this article for more information: https://medium.lucit.tech/87b0088124a8\n",
      "LUCIT License Manager is shutting down!\n"
     ]
    },
    {
     "ename": "NoValidatedLucitLicense",
     "evalue": "Please provide the api secret and license token of your lucit license! Read this article for more information: https://medium.lucit.tech/87b0088124a8",
     "output_type": "error",
     "traceback": [
      "\u001b[0;31m---------------------------------------------------------------------------\u001b[0m",
      "\u001b[0;31mNoValidatedLucitLicense\u001b[0m                   Traceback (most recent call last)",
      "Cell \u001b[0;32mIn[6], line 4\u001b[0m\n\u001b[1;32m      1\u001b[0m \u001b[38;5;28;01mimport\u001b[39;00m \u001b[38;5;21;01mpandas\u001b[39;00m \u001b[38;5;28;01mas\u001b[39;00m \u001b[38;5;21;01mpd\u001b[39;00m\n\u001b[1;32m      2\u001b[0m \u001b[38;5;28;01mimport\u001b[39;00m \u001b[38;5;21;01municorn_binance_websocket_api\u001b[39;00m \u001b[38;5;28;01mas\u001b[39;00m \u001b[38;5;21;01muni\u001b[39;00m\n\u001b[0;32m----> 4\u001b[0m bwsam \u001b[38;5;241m=\u001b[39m \u001b[43muni\u001b[49m\u001b[38;5;241;43m.\u001b[39;49m\u001b[43mBinanceWebSocketApiManager\u001b[49m\u001b[43m(\u001b[49m\u001b[43mexchange\u001b[49m\u001b[38;5;241;43m=\u001b[39;49m\u001b[38;5;124;43m\"\u001b[39;49m\u001b[38;5;124;43mbinance.com\u001b[39;49m\u001b[38;5;124;43m\"\u001b[39;49m\u001b[43m)\u001b[49m\n\u001b[1;32m      5\u001b[0m bwsam\u001b[38;5;241m.\u001b[39mcreate_stream(\u001b[38;5;124m\"\u001b[39m\u001b[38;5;124mkline_1m\u001b[39m\u001b[38;5;124m\"\u001b[39m, [\u001b[38;5;124m\"\u001b[39m\u001b[38;5;124mbtcusdt\u001b[39m\u001b[38;5;124m\"\u001b[39m], output\u001b[38;5;241m=\u001b[39m\u001b[38;5;124m\"\u001b[39m\u001b[38;5;124mUnicornFy\u001b[39m\u001b[38;5;124m\"\u001b[39m)\n\u001b[1;32m      7\u001b[0m \u001b[38;5;28;01mdef\u001b[39;00m \u001b[38;5;21mobtener_precio\u001b[39m():\n",
      "File \u001b[0;32municorn_binance_websocket_api/manager.py:272\u001b[0m, in \u001b[0;36municorn_binance_websocket_api.manager.BinanceWebSocketApiManager.__init__\u001b[0;34m()\u001b[0m\n",
      "File \u001b[0;32mlucit_licensing_python/manager.py:136\u001b[0m, in \u001b[0;36mlucit_licensing_python.manager.LucitLicensingManager.__init__\u001b[0;34m()\u001b[0m\n",
      "\u001b[0;31mNoValidatedLucitLicense\u001b[0m: Please provide the api secret and license token of your lucit license! Read this article for more information: https://medium.lucit.tech/87b0088124a8"
     ]
    }
   ],
   "source": [
    "import pandas as pd\n",
    "import unicorn_binance_websocket_api as uni\n",
    "\n",
    "bwsam = uni.BinanceWebSocketApiManager(exchange=\"binance.com\")\n",
    "bwsam.create_stream(\"kline_1m\", [\"btcusdt\"], output=\"UnicornFy\")\n",
    "\n",
    "def obtener_precio():\n",
    "    return\n",
    "\n",
    "        \n",
    "data = bwsam.pop_stream_data_from_stream_buffer()\n",
    "print(data)\n"
   ]
  }
 ],
 "metadata": {
  "kernelspec": {
   "display_name": "Python 3",
   "language": "python",
   "name": "python3"
  },
  "language_info": {
   "codemirror_mode": {
    "name": "ipython",
    "version": 3
   },
   "file_extension": ".py",
   "mimetype": "text/x-python",
   "name": "python",
   "nbconvert_exporter": "python",
   "pygments_lexer": "ipython3",
   "version": "3.10.14"
  }
 },
 "nbformat": 4,
 "nbformat_minor": 2
}
